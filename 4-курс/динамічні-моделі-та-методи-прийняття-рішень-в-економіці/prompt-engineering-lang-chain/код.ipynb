{
  "cells": [
    {
      "cell_type": "code",
      "execution_count": null,
      "metadata": {
        "id": "zQ4kIiIg-Yo_"
      },
      "outputs": [],
      "source": [
        "!pip install langchain\n",
        "!pip install langchain-openai"
      ]
    },
    {
      "cell_type": "code",
      "execution_count": 22,
      "metadata": {
        "id": "IfEK2E30-NjZ"
      },
      "outputs": [],
      "source": [
        "from langchain.chains import LLMChain\n",
        "from langchain_openai import ChatOpenAI\n",
        "\n",
        "llm = ChatOpenAI(api_key=\"secret\")"
      ]
    },
    {
      "cell_type": "code",
      "execution_count": 165,
      "metadata": {
        "colab": {
          "base_uri": "https://localhost:8080/",
          "height": 35
        },
        "id": "YzQSHbGN-UWI",
        "outputId": "ee2c39e1-5d35-404d-b733-636c40834222"
      },
      "outputs": [
        {
          "data": {
            "application/vnd.google.colaboratory.intrinsic+json": {
              "type": "string"
            },
            "text/plain": [
              "'\\n\\nНаразі ректором Львівського національного університету імені Івана Франка є професор Ігор Цепенда. Він обіймає цю посаду з 2019 року.'"
            ]
          },
          "execution_count": 165,
          "metadata": {},
          "output_type": "execute_result"
        }
      ],
      "source": [
        "# Як написати чітку інструкцію\n",
        "# 1. Додайте більше деталей до запиту\n",
        "\n",
        "noneffective_prompt=\"Хто є зараз ректором?\"\n",
        "effective_prompt=\"Хто є зараз ректором в ЛНУ?\"\n",
        "\n",
        "# noneffective_prompt=\"Напиши функцію, щоб обчислити послідовність Фібоначчі\"\n",
        "# effective_prompt=\"Напиши на пайтоні функцію, щоб обчислити послідовність Фібоначчі. Прокоментуй кожну дію\"\n",
        "\n",
        "llm.invoke(effective_prompt)"
      ]
    },
    {
      "cell_type": "code",
      "execution_count": 166,
      "metadata": {
        "colab": {
          "base_uri": "https://localhost:8080/",
          "height": 53
        },
        "id": "uLIRDKWVT38J",
        "outputId": "263d1c3d-1e47-4ef6-8ca9-d688375d92fe"
      },
      "outputs": [
        {
          "data": {
            "application/vnd.google.colaboratory.intrinsic+json": {
              "type": "string"
            },
            "text/plain": [
              "'\\n\\nТермодинаміка - це закони,\\nЩо визначають рух тепла і енергії,\\nАле якщо їм не дотримуватись,\\nТо може бути багато проблем і суміші.\\n\\nТепло від холоду шукає шлях,\\nІ підкорює все на своєму шляху,\\nТак що не забувай дотримуватись правил,\\nІ будь завжди на висоті, мій друг.'"
            ]
          },
          "execution_count": 166,
          "metadata": {},
          "output_type": "execute_result"
        }
      ],
      "source": [
        "# Як написати чітку інструкцію\n",
        "# 2. Вкажіть моделі, як вона повинна поводитися\n",
        "\n",
        "from langchain_core.prompts import ChatPromptTemplate\n",
        "\n",
        "prompt = ChatPromptTemplate.from_messages(\n",
        "    [\n",
        "        (\"system\", \"Ти - поет футурист. Ти повинен відповідати віршем у жартівливому тоні\"),\n",
        "        (\"user\", \"{text}\")\n",
        "    ]\n",
        ")\n",
        "\n",
        "chain = prompt | llm\n",
        "chain.invoke({\"text\": \"Що таке термодинаміка?\"})"
      ]
    },
    {
      "cell_type": "code",
      "execution_count": 167,
      "metadata": {
        "colab": {
          "base_uri": "https://localhost:8080/",
          "height": 53
        },
        "id": "jlxIm2Gu-jqm",
        "outputId": "e988d027-1e71-465f-aa28-dfd2ec81968d"
      },
      "outputs": [
        {
          "data": {
            "application/vnd.google.colaboratory.intrinsic+json": {
              "type": "string"
            },
            "text/plain": [
              "'\\n\\nПідсумок: Київ - важливий транспортний вузол, розташований на перетині шляхів з давніх часів.\\nПереклад: Resumen: Kiev es un importante punto de transporte situado en la intersección de caminos desde tiempos antiguos.'"
            ]
          },
          "execution_count": 167,
          "metadata": {},
          "output_type": "execute_result"
        }
      ],
      "source": [
        "# Як написати чітку інструкцію\n",
        "# 3. Вкажіть дії, необхідні для виконання завдання\n",
        "\n",
        "from langchain_core.prompts import ChatPromptTemplate\n",
        "\n",
        "chat = ChatPromptTemplate.from_messages(\n",
        "    [\n",
        "        (\"system\",\n",
        "                '''Виконуй наступні інструкції, щоб відповісти на запитання користувача\n",
        "                   Крок 1 - Користувач надасть тобі текст. Підсумуй цей текст одним реченням з префіксом \"Підсумок: \".\n",
        "                   Крок 2 - Переклади підсумок з Крок 1 іспанською. Додай префікс \"Переклад: \".\n",
        "                   '''\n",
        "        ),\n",
        "        (\"user\", \"{text}\")\n",
        "    ]\n",
        ")\n",
        "\n",
        "messages = chat.format_messages(text=\"Київ здавна розташовувався на перетині важливих шляхів. Ще за Київської Русі таким шляхом був легендарний «Шлях із варягів у греки». Нині місто перетинають міжнародні автомобільні та залізничні шляхи. Рельєф Києва сформувався на межі Придніпровської височини, а також Поліської та Придніпровської низовин.?\")\n",
        "llm.invoke(messages)"
      ]
    },
    {
      "cell_type": "code",
      "execution_count": 171,
      "metadata": {
        "colab": {
          "base_uri": "https://localhost:8080/",
          "height": 53
        },
        "id": "9cDw6XMiYmTV",
        "outputId": "e18ea78c-29b3-49a6-b8cd-2055b099eb41"
      },
      "outputs": [
        {
          "data": {
            "application/vnd.google.colaboratory.intrinsic+json": {
              "type": "string"
            },
            "text/plain": [
              "'\\n\\nГармонія - це стан спокою, рівноваги та злагоди між різними елементами, або між людьми. Вона включає в себе взаємодію, взаєморозуміння та взаємоповагу, що приносить позитивні емоції та благополуччя. Гармонія може бути досягнута як на особистому рівні, так і в суспільстві в цілому.'"
            ]
          },
          "execution_count": 171,
          "metadata": {},
          "output_type": "execute_result"
        }
      ],
      "source": [
        "# Як написати чітку інструкцію\n",
        "# 4. Наведіть приклади\n",
        "\n",
        "from langchain_core.prompts import ChatPromptTemplate\n",
        "\n",
        "prompt = ChatPromptTemplate.from_messages(\n",
        "    [\n",
        "        (\n",
        "            \"system\", \"Відповідай послідовно\"\n",
        "        ),\n",
        "        (\"user\", \"Що таке спокій?\"),\n",
        "        (\n",
        "            \"assistant\", \"Це відсутність тривоги.\"\n",
        "        ),\n",
        "        (\"user\", \"{text}\"),\n",
        "    ]\n",
        ")\n",
        "\n",
        "chain = prompt | llm\n",
        "chain.invoke({\"text\": \"Що таке гармонія?\"})"
      ]
    },
    {
      "cell_type": "code",
      "execution_count": 172,
      "metadata": {
        "colab": {
          "base_uri": "https://localhost:8080/",
          "height": 35
        },
        "id": "8V6Zr3Ard_rv",
        "outputId": "2ec46e1c-c5ff-4750-8081-82e94ed17a31"
      },
      "outputs": [
        {
          "data": {
            "application/vnd.google.colaboratory.intrinsic+json": {
              "type": "string"
            },
            "text/plain": [
              "'\\nAI: слабкий'"
            ]
          },
          "execution_count": 172,
          "metadata": {},
          "output_type": "execute_result"
        }
      ],
      "source": [
        "from langchain.prompts import (\n",
        "    ChatPromptTemplate,\n",
        "    FewShotChatMessagePromptTemplate,\n",
        ")\n",
        "from langchain_community.chat_models import ChatAnthropic\n",
        "\n",
        "examples = [\n",
        "    {\"input\": \"веселий\", \"output\": \"сумний\"},\n",
        "    {\"input\": \"високий\", \"output\": \"низький\"},\n",
        "]\n",
        "\n",
        "example_prompt = ChatPromptTemplate.from_messages(\n",
        "    [\n",
        "        (\"user\", \"{input}\"),\n",
        "        (\"assistant\", \"{output}\"),\n",
        "    ]\n",
        ")\n",
        "\n",
        "few_shot_prompt = FewShotChatMessagePromptTemplate(\n",
        "    example_prompt=example_prompt,\n",
        "    examples=examples,\n",
        ")\n",
        "\n",
        "final_prompt = ChatPromptTemplate.from_messages(\n",
        "    [\n",
        "        (\"system\", \"Знайди антонім до слова, яке напише користувач.\"),\n",
        "        few_shot_prompt,\n",
        "        (\"user\", \"{input}\"),\n",
        "    ]\n",
        ")\n",
        "\n",
        "chain = final_prompt | llm\n",
        "chain.invoke({\"input\": \"Сильний\"})"
      ]
    },
    {
      "cell_type": "code",
      "execution_count": 173,
      "metadata": {
        "colab": {
          "base_uri": "https://localhost:8080/",
          "height": 53
        },
        "id": "UwYGrFx2l8B3",
        "outputId": "0451863e-4d61-4842-b17d-d80e8fdc98f7"
      },
      "outputs": [
        {
          "data": {
            "application/vnd.google.colaboratory.intrinsic+json": {
              "type": "string"
            },
            "text/plain": [
              "'\\n\\nSystem:\\n{\\n  \"USA\": 8000,\\n  \"Canada\": 6000,\\n  \"Mexico\": 3000,\\n  \"Brazil\": 4000,\\n  \"Argentina\": 5000,\\n  \"Colombia\": 3000,\\n  \"UK\": 7000,\\n  \"Germany\": 6000,\\n  \"France\": 6500\\n}'"
            ]
          },
          "execution_count": 173,
          "metadata": {},
          "output_type": "execute_result"
        }
      ],
      "source": [
        "# Надання довідкової інформації\n",
        "# 1. Попросіть модель відповідати використовуючи довідкову інформацію\n",
        "\n",
        "from langchain_core.prompts import ChatPromptTemplate\n",
        "\n",
        "prompt = ChatPromptTemplate.from_messages(\n",
        "    [\n",
        "        (\n",
        "            \"system\",\n",
        "            \"Ти база даних із середніми зарплатами для різних професій в доларах за місяць.\" +\n",
        "            \"Я дам тобі назву професії. Ти повинен повернути мені JSON з зарплатою для кожної країни зі списку.\" +\n",
        "            \"Ось список країн: США, Канада, Мексика, Бразилія, Аргентина, Колумбія, Велика Британія, Німеччина, Франція,\"\n",
        "        ),\n",
        "        (\"user\", \"{input}\"),\n",
        "    ]\n",
        ")\n",
        "\n",
        "chain = prompt | llm\n",
        "chain.invoke({\"input\": \"Актор озвучки мультфільмів\"})"
      ]
    },
    {
      "cell_type": "code",
      "execution_count": 142,
      "metadata": {
        "colab": {
          "base_uri": "https://localhost:8080/",
          "height": 53
        },
        "id": "5rhu5Ba1wVk9",
        "outputId": "a6771705-b324-4498-a735-a69db39bf478"
      },
      "outputs": [
        {
          "data": {
            "application/vnd.google.colaboratory.intrinsic+json": {
              "type": "string"
            },
            "text/plain": [
              "'\\n\\n{\\n  \"USA\": 2000,\\n  \"Canada\": 1800,\\n  \"Mexico\": 1000,\\n  \"Brazil\": 1500,\\n  \"Argentina\": 1200,\\n  \"Colombia\": 1000,\\n  \"Great Britain\": 2500,\\n  \"Germany\": 2000,\\n  \"France\": 2200\\n}'"
            ]
          },
          "execution_count": 142,
          "metadata": {},
          "output_type": "execute_result"
        }
      ],
      "source": [
        "# Розбиття задач\n",
        "# 1. Розбиття задач на підзадачі\n",
        "\n",
        "from langchain_core.prompts import ChatPromptTemplate\n",
        "\n",
        "prompt = ChatPromptTemplate.from_messages(\n",
        "    [\n",
        "        (\n",
        "            \"system\",\n",
        "            \"Ти база даних із середніми зарплатами для різних професій в доларах за місяць.\" +\n",
        "            \"Я дам тобі назву професії. Ти повинен повернути мені JSON з зарплатою для кожної країни зі списку.\" +\n",
        "            \"Ось список країн: США, Канада, Мексика, Бразилія, Аргентина, Колумбія, Велика Британія, Німеччина, Франція,\"\n",
        "        ),\n",
        "        (\"user\", \"{input}\"),\n",
        "    ]\n",
        ")\n",
        "\n",
        "chain = prompt | llm\n",
        "chain.invoke({\"input\": \"Актор озвучки мультфільмів\"})"
      ]
    },
    {
      "cell_type": "code",
      "execution_count": null,
      "metadata": {
        "id": "QNkRGdKhzy2D"
      },
      "outputs": [],
      "source": [
        "# Розбиття задач\n",
        "# 1. Розбиття задач на підзадачі\n",
        "\n",
        "from langchain import PromptTemplate\n",
        "from langchain.chains import LLMChain, SimpleSequentialChain\n",
        "import json\n",
        "\n",
        "prompt = ChatPromptTemplate.from_messages(\n",
        "    [\n",
        "        (\"system\", \"Ти база даних з бізнес ідеями. Кожна ідея має таку схему title: string, summary: string.\"),\n",
        "        ('assistant', \"У відповідь дай лише JSON.\"),\n",
        "        ('assistant', \"Поверни масив об'єктів у JSON форматі з такою кількість ідей яку я тобі скажу\"),\n",
        "        (\"user\", \"Мені потрібно {count} ідей\")\n",
        "    ]\n",
        ")\n",
        "chain1 = prompt | llm\n",
        "\n",
        "def f():\n",
        "    prompt_template2 = PromptTemplate.from_template(\n",
        "        template=\"Ти база даних з бізнес ідеями. Кожна ідея має title, summary, description, targetAudience. Поверни мені ідею з title: {title}, summary: {summary}\"\n",
        "    )\n",
        "    chain2 = prompt_template2 | llm\n",
        "\n",
        "\n",
        "res = chain1.invoke({\"count\": \"3\"})\n",
        "print(res)\n",
        "json.loads(res)"
      ]
    }
  ],
  "metadata": {
    "colab": {
      "provenance": []
    },
    "kernelspec": {
      "display_name": "Python 3",
      "name": "python3"
    },
    "language_info": {
      "name": "python"
    }
  },
  "nbformat": 4,
  "nbformat_minor": 0
}
